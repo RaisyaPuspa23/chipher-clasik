{
  "nbformat": 4,
  "nbformat_minor": 0,
  "metadata": {
    "colab": {
      "provenance": [],
      "authorship_tag": "ABX9TyM1IQU2elFi9yhlqvurexoW",
      "include_colab_link": true
    },
    "kernelspec": {
      "name": "python3",
      "display_name": "Python 3"
    },
    "language_info": {
      "name": "python"
    }
  },
  "cells": [
    {
      "cell_type": "markdown",
      "metadata": {
        "id": "view-in-github",
        "colab_type": "text"
      },
      "source": [
        "<a href=\"https://colab.research.google.com/github/RaisyaPuspa23/chipher-clasik/blob/main/chipher-clasik.ipynb\" target=\"_parent\"><img src=\"https://colab.research.google.com/assets/colab-badge.svg\" alt=\"Open In Colab\"/></a>"
      ]
    },
    {
      "cell_type": "code",
      "execution_count": null,
      "metadata": {
        "id": "ODWFjS-Kj3bW"
      },
      "outputs": [],
      "source": [
        "def caesar_encrypt(text, shift):\n",
        "    result = ''\n",
        "    for char in text:\n",
        "        if char.isalpha():\n",
        "            base = ord('A') if char.isupper() else ord('a')\n",
        "            result += chr((ord(char) - base + shift) % 26 + base)\n",
        "        else:\n",
        "            result += char\n",
        "    return result\n",
        "\n",
        "def caesar_decrypt(cipher, shift):\n",
        "    return caesar_encrypt(cipher, -shift)"
      ]
    },
    {
      "cell_type": "code",
      "source": [
        "def vigenere_encrypt(plain, key):\n",
        "    key = key.upper()\n",
        "    result = ''\n",
        "    for i, char in enumerate(plain.upper()):\n",
        "        if char.isalpha():\n",
        "            shift = ord(key[i % len(key)]) - 65\n",
        "            result += chr((ord(char) - 65 + shift) % 26 + 65)\n",
        "        else:\n",
        "            result += char\n",
        "    return result\n",
        "\n",
        "def vigenere_decrypt(cipher, key):\n",
        "    key = key.upper()\n",
        "    result = ''\n",
        "    for i, char in enumerate(cipher.upper()):\n",
        "        if char.isalpha():\n",
        "            shift = ord(key[i % len(key)]) - 65\n",
        "            result += chr((ord(char) - 65 - shift) % 26 + 65)\n",
        "        else:\n",
        "            result += char\n",
        "    return result"
      ],
      "metadata": {
        "id": "Gs83LFpvkIiT"
      },
      "execution_count": null,
      "outputs": []
    },
    {
      "cell_type": "code",
      "source": [
        "if __name__ == \"__main__\":\n",
        "    print(\"=== Program Cipher Klasik ===\")\n",
        "    text = input(\"Masukkan teks: \")\n",
        "    shift = int(input(\"Masukkan shift Caesar: \"))\n",
        "    key = input(\"Masukkan kunci Vigenere: \")\n",
        "\n",
        "    # Caesar Cipher\n",
        "    caesar_encrypted = caesar_encrypt(text, shift)\n",
        "    caesar_decrypted = caesar_decrypt(caesar_encrypted, shift)\n",
        "\n",
        "    # Vigenere Cipher\n",
        "    vigenere_encrypted = vigenere_encrypt(text, key)\n",
        "    vigenere_decrypted = vigenere_decrypt(vigenere_encrypted, key)\n",
        "\n",
        "    # Simpan ke file\n",
        "    with open(\"hasil_cipher.txt\", \"w\") as f:\n",
        "        f.write(\"=== Hasil Caesar Cipher ===\\n\")\n",
        "        f.write(f\"Teks asli      : {text}\\n\")\n",
        "        f.write(f\"Enkripsi       : {caesar_encrypted}\\n\")\n",
        "        f.write(f\"Dekripsi       : {caesar_decrypted}\\n\\n\")\n",
        "\n",
        "        f.write(\"=== Hasil Vigenere Cipher ===\\n\")\n",
        "        f.write(f\"Teks asli      : {text}\\n\")\n",
        "        f.write(f\"Kunci          : {key}\\n\")\n",
        "        f.write(f\"Enkripsi       : {vigenere_encrypted}\\n\")\n",
        "        f.write(f\"Dekripsi       : {vigenere_decrypted}\\n\")\n",
        "\n",
        "    print(\"\\nHasil enkripsi & dekripsi telah disimpan di 'hasil_cipher.txt'\")"
      ],
      "metadata": {
        "colab": {
          "base_uri": "https://localhost:8080/"
        },
        "id": "k3Sn7JN_kiM3",
        "outputId": "9739604b-0a6f-42f0-e74c-483e4297db6c"
      },
      "execution_count": null,
      "outputs": [
        {
          "output_type": "stream",
          "name": "stdout",
          "text": [
            "=== Program Cipher Klasik ===\n",
            "Masukkan teks: ica\n",
            "Masukkan shift Caesar: 20123007\n",
            "Masukkan kunci Vigenere: stoberi\n",
            "\n",
            "Hasil enkripsi & dekripsi telah disimpan di 'hasil_cipher.txt'\n"
          ]
        }
      ]
    }
  ]
}